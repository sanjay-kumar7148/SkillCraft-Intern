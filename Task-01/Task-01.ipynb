{
 "cells": [
  {
   "cell_type": "markdown",
   "metadata": {},
   "source": [
    "<h1>Task-01</h1>"
   ]
  },
  {
   "cell_type": "markdown",
   "metadata": {},
   "source": [
    "<h3>Step 1: Install and Import required libraries</h3>"
   ]
  },
  {
   "cell_type": "code",
   "execution_count": 45,
   "metadata": {},
   "outputs": [],
   "source": [
    "import numpy as np\n",
    "import pandas as pd\n",
    "import matplotlib.pyplot as plt\n",
    "import seaborn as sns\n",
    "sns.set_style(\"whitegrid\")"
   ]
  },
  {
   "cell_type": "markdown",
   "metadata": {},
   "source": [
    "<h3>Step 2: Load the Dataset</h3>"
   ]
  },
  {
   "cell_type": "code",
   "execution_count": 46,
   "metadata": {},
   "outputs": [
    {
     "data": {
      "application/vnd.microsoft.datawrangler.viewer.v0+json": {
       "columns": [
        {
         "name": "index",
         "rawType": "int64",
         "type": "integer"
        },
        {
         "name": "Country Name",
         "rawType": "object",
         "type": "string"
        },
        {
         "name": "Country Code",
         "rawType": "object",
         "type": "string"
        },
        {
         "name": "Indicator Name",
         "rawType": "object",
         "type": "string"
        },
        {
         "name": "Indicator Code",
         "rawType": "object",
         "type": "string"
        },
        {
         "name": "1960",
         "rawType": "float64",
         "type": "float"
        },
        {
         "name": "1961",
         "rawType": "float64",
         "type": "float"
        },
        {
         "name": "1962",
         "rawType": "float64",
         "type": "float"
        },
        {
         "name": "1963",
         "rawType": "float64",
         "type": "float"
        },
        {
         "name": "1964",
         "rawType": "float64",
         "type": "float"
        },
        {
         "name": "1965",
         "rawType": "float64",
         "type": "float"
        },
        {
         "name": "1966",
         "rawType": "float64",
         "type": "float"
        },
        {
         "name": "1967",
         "rawType": "float64",
         "type": "float"
        },
        {
         "name": "1968",
         "rawType": "float64",
         "type": "float"
        },
        {
         "name": "1969",
         "rawType": "float64",
         "type": "float"
        },
        {
         "name": "1970",
         "rawType": "float64",
         "type": "float"
        },
        {
         "name": "1971",
         "rawType": "float64",
         "type": "float"
        },
        {
         "name": "1972",
         "rawType": "float64",
         "type": "float"
        },
        {
         "name": "1973",
         "rawType": "float64",
         "type": "float"
        },
        {
         "name": "1974",
         "rawType": "float64",
         "type": "float"
        },
        {
         "name": "1975",
         "rawType": "float64",
         "type": "float"
        },
        {
         "name": "1976",
         "rawType": "float64",
         "type": "float"
        },
        {
         "name": "1977",
         "rawType": "float64",
         "type": "float"
        },
        {
         "name": "1978",
         "rawType": "float64",
         "type": "float"
        },
        {
         "name": "1979",
         "rawType": "float64",
         "type": "float"
        },
        {
         "name": "1980",
         "rawType": "float64",
         "type": "float"
        },
        {
         "name": "1981",
         "rawType": "float64",
         "type": "float"
        },
        {
         "name": "1982",
         "rawType": "float64",
         "type": "float"
        },
        {
         "name": "1983",
         "rawType": "float64",
         "type": "float"
        },
        {
         "name": "1984",
         "rawType": "float64",
         "type": "float"
        },
        {
         "name": "1985",
         "rawType": "float64",
         "type": "float"
        },
        {
         "name": "1986",
         "rawType": "float64",
         "type": "float"
        },
        {
         "name": "1987",
         "rawType": "float64",
         "type": "float"
        },
        {
         "name": "1988",
         "rawType": "float64",
         "type": "float"
        },
        {
         "name": "1989",
         "rawType": "float64",
         "type": "float"
        },
        {
         "name": "1990",
         "rawType": "float64",
         "type": "float"
        },
        {
         "name": "1991",
         "rawType": "float64",
         "type": "float"
        },
        {
         "name": "1992",
         "rawType": "float64",
         "type": "float"
        },
        {
         "name": "1993",
         "rawType": "float64",
         "type": "float"
        },
        {
         "name": "1994",
         "rawType": "float64",
         "type": "float"
        },
        {
         "name": "1995",
         "rawType": "float64",
         "type": "float"
        },
        {
         "name": "1996",
         "rawType": "float64",
         "type": "float"
        },
        {
         "name": "1997",
         "rawType": "float64",
         "type": "float"
        },
        {
         "name": "1998",
         "rawType": "float64",
         "type": "float"
        },
        {
         "name": "1999",
         "rawType": "float64",
         "type": "float"
        },
        {
         "name": "2000",
         "rawType": "float64",
         "type": "float"
        },
        {
         "name": "2001",
         "rawType": "float64",
         "type": "float"
        },
        {
         "name": "2002",
         "rawType": "float64",
         "type": "float"
        },
        {
         "name": "2003",
         "rawType": "float64",
         "type": "float"
        },
        {
         "name": "2004",
         "rawType": "float64",
         "type": "float"
        },
        {
         "name": "2005",
         "rawType": "float64",
         "type": "float"
        },
        {
         "name": "2006",
         "rawType": "float64",
         "type": "float"
        },
        {
         "name": "2007",
         "rawType": "float64",
         "type": "float"
        },
        {
         "name": "2008",
         "rawType": "float64",
         "type": "float"
        },
        {
         "name": "2009",
         "rawType": "float64",
         "type": "float"
        },
        {
         "name": "2010",
         "rawType": "float64",
         "type": "float"
        },
        {
         "name": "2011",
         "rawType": "float64",
         "type": "float"
        },
        {
         "name": "2012",
         "rawType": "float64",
         "type": "float"
        },
        {
         "name": "2013",
         "rawType": "float64",
         "type": "float"
        },
        {
         "name": "2014",
         "rawType": "float64",
         "type": "float"
        },
        {
         "name": "2015",
         "rawType": "float64",
         "type": "float"
        },
        {
         "name": "2016",
         "rawType": "float64",
         "type": "float"
        },
        {
         "name": "2017",
         "rawType": "float64",
         "type": "float"
        },
        {
         "name": "2018",
         "rawType": "float64",
         "type": "float"
        },
        {
         "name": "2019",
         "rawType": "float64",
         "type": "float"
        },
        {
         "name": "2020",
         "rawType": "float64",
         "type": "float"
        },
        {
         "name": "2021",
         "rawType": "float64",
         "type": "float"
        },
        {
         "name": "2022",
         "rawType": "float64",
         "type": "float"
        },
        {
         "name": "2023",
         "rawType": "float64",
         "type": "float"
        },
        {
         "name": "Unnamed: 68",
         "rawType": "float64",
         "type": "float"
        }
       ],
       "conversionMethod": "pd.DataFrame",
       "ref": "ef0d1504-e800-4de4-a35b-75a6a801e260",
       "rows": [
        [
         "0",
         "Aruba",
         "ABW",
         "Population, total",
         "SP.POP.TOTL",
         "54922.0",
         "55578.0",
         "56320.0",
         "57002.0",
         "57619.0",
         "58190.0",
         "58694.0",
         "58990.0",
         "59069.0",
         "59052.0",
         "58950.0",
         "58781.0",
         "58047.0",
         "58299.0",
         "58349.0",
         "58295.0",
         "58368.0",
         "58580.0",
         "58776.0",
         "59191.0",
         "59909.0",
         "60563.0",
         "61276.0",
         "62228.0",
         "62901.0",
         "61728.0",
         "59931.0",
         "59159.0",
         "59331.0",
         "60443.0",
         "62753.0",
         "65896.0",
         "69005.0",
         "73685.0",
         "77595.0",
         "79805.0",
         "83021.0",
         "86301.0",
         "88451.0",
         "89659.0",
         "90588.0",
         "91439.0",
         "92074.0",
         "93128.0",
         "95138.0",
         "97635.0",
         "99405.0",
         "100150.0",
         "100917.0",
         "101604.0",
         "101838.0",
         "102591.0",
         "104110.0",
         "105675.0",
         "106807.0",
         "107906.0",
         "108727.0",
         "108735.0",
         "108908.0",
         "109203.0",
         "108587.0",
         "107700.0",
         "107310.0",
         "107359.0",
         null
        ],
        [
         "1",
         "Africa Eastern and Southern",
         "AFE",
         "Population, total",
         "SP.POP.TOTL",
         "130072080.0",
         "133534923.0",
         "137171659.0",
         "140945536.0",
         "144904094.0",
         "149033472.0",
         "153281203.0",
         "157704381.0",
         "162329396.0",
         "167088245.0",
         "171984985.0",
         "177022314.0",
         "182126556.0",
         "187524135.0",
         "193186642.0",
         "198914573.0",
         "204802976.0",
         "210680842.0",
         "217074286.0",
         "223974122.0",
         "230792729.0",
         "238043099.0",
         "245822010.0",
         "253644643.0",
         "261458202.0",
         "269450407.0",
         "277621771.0",
         "286067346.0",
         "294498625.0",
         "302939121.0",
         "311748681.0",
         "320442961.0",
         "329082707.0",
         "338324002.0",
         "347441809.0",
         "356580375.0",
         "366138524.0",
         "375646235.0",
         "385505757.0",
         "395750933.0",
         "406156661.0",
         "416807868.0",
         "427820358.0",
         "439173286.0",
         "450928044.0",
         "463076637.0",
         "475606210.0",
         "488580707.0",
         "502070763.0",
         "516003448.0",
         "530308387.0",
         "544737983.0",
         "559609961.0",
         "575202699.0",
         "590968990.0",
         "607123269.0",
         "623369401.0",
         "640058741.0",
         "657801085.0",
         "675950189.0",
         "694446100.0",
         "713090928.0",
         "731821393.0",
         "750503764.0",
         null
        ],
        [
         "2",
         "Afghanistan",
         "AFG",
         "Population, total",
         "SP.POP.TOTL",
         "9035043.0",
         "9214083.0",
         "9404406.0",
         "9604487.0",
         "9814318.0",
         "10036008.0",
         "10266395.0",
         "10505959.0",
         "10756922.0",
         "11017409.0",
         "11290128.0",
         "11567667.0",
         "11853696.0",
         "12157999.0",
         "12469127.0",
         "12773954.0",
         "13059851.0",
         "13340756.0",
         "13611441.0",
         "13655567.0",
         "13169311.0",
         "11937581.0",
         "10991378.0",
         "10917982.0",
         "11190221.0",
         "11426852.0",
         "11420074.0",
         "11387818.0",
         "11523298.0",
         "11874088.0",
         "12045660.0",
         "12238879.0",
         "13278974.0",
         "14943172.0",
         "16250794.0",
         "17065836.0",
         "17763266.0",
         "18452091.0",
         "19159996.0",
         "19887785.0",
         "20130327.0",
         "20284307.0",
         "21378117.0",
         "22733049.0",
         "23560654.0",
         "24404567.0",
         "25424094.0",
         "25909852.0",
         "26482622.0",
         "27466101.0",
         "28284089.0",
         "29347708.0",
         "30560034.0",
         "31622704.0",
         "32792523.0",
         "33831764.0",
         "34700612.0",
         "35688935.0",
         "36743039.0",
         "37856121.0",
         "39068979.0",
         "40000412.0",
         "40578842.0",
         "41454761.0",
         null
        ],
        [
         "3",
         "Africa Western and Central",
         "AFW",
         "Population, total",
         "SP.POP.TOTL",
         "97630925.0",
         "99706674.0",
         "101854756.0",
         "104089175.0",
         "106388440.0",
         "108772632.0",
         "111246953.0",
         "113795019.0",
         "116444636.0",
         "119203521.0",
         "122086536.0",
         "125072948.0",
         "128176494.0",
         "131449942.0",
         "134911581.0",
         "138569918.0",
         "142337272.0",
         "146258576.0",
         "150402616.0",
         "154721711.0",
         "159166518.0",
         "163762473.0",
         "168585118.0",
         "173255157.0",
         "177880746.0",
         "182811038.0",
         "187889141.0",
         "193104347.0",
         "198485027.0",
         "204062274.0",
         "209566031.0",
         "215178709.0",
         "221191375.0",
         "227246778.0",
         "233360104.0",
         "239801875.0",
         "246415446.0",
         "253207584.0",
         "260297834.0",
         "267506298.0",
         "274968446.0",
         "282780717.0",
         "290841795.0",
         "299142845.0",
         "307725100.0",
         "316588476.0",
         "325663158.0",
         "334984176.0",
         "344586109.0",
         "354343844.0",
         "364358270.0",
         "374790143.0",
         "385360349.0",
         "396030207.0",
         "406992047.0",
         "418127845.0",
         "429454743.0",
         "440882906.0",
         "452195915.0",
         "463365429.0",
         "474569351.0",
         "485920997.0",
         "497387180.0",
         "509398589.0",
         null
        ],
        [
         "4",
         "Angola",
         "AGO",
         "Population, total",
         "SP.POP.TOTL",
         "5231654.0",
         "5301583.0",
         "5354310.0",
         "5408320.0",
         "5464187.0",
         "5521981.0",
         "5581386.0",
         "5641807.0",
         "5702699.0",
         "5763685.0",
         "5852788.0",
         "5991102.0",
         "6174262.0",
         "6388528.0",
         "6613367.0",
         "6842947.0",
         "7074664.0",
         "7317829.0",
         "7576734.0",
         "7847207.0",
         "8133872.0",
         "8435607.0",
         "8751648.0",
         "9082983.0",
         "9425917.0",
         "9779120.0",
         "10139450.0",
         "10497858.0",
         "10861291.0",
         "11238562.0",
         "11626360.0",
         "12023529.0",
         "12423712.0",
         "12827135.0",
         "13249764.0",
         "13699778.0",
         "14170973.0",
         "14660413.0",
         "15159370.0",
         "15667235.0",
         "16194869.0",
         "16747208.0",
         "17327699.0",
         "17943712.0",
         "18600423.0",
         "19291161.0",
         "20015279.0",
         "20778561.0",
         "21578655.0",
         "22414773.0",
         "23294825.0",
         "24218352.0",
         "25177394.0",
         "26165620.0",
         "27160769.0",
         "28157798.0",
         "29183070.0",
         "30234839.0",
         "31297155.0",
         "32375632.0",
         "33451132.0",
         "34532429.0",
         "35635029.0",
         "36749906.0",
         null
        ]
       ],
       "shape": {
        "columns": 69,
        "rows": 5
       }
      },
      "text/html": [
       "<div>\n",
       "<style scoped>\n",
       "    .dataframe tbody tr th:only-of-type {\n",
       "        vertical-align: middle;\n",
       "    }\n",
       "\n",
       "    .dataframe tbody tr th {\n",
       "        vertical-align: top;\n",
       "    }\n",
       "\n",
       "    .dataframe thead th {\n",
       "        text-align: right;\n",
       "    }\n",
       "</style>\n",
       "<table border=\"1\" class=\"dataframe\">\n",
       "  <thead>\n",
       "    <tr style=\"text-align: right;\">\n",
       "      <th></th>\n",
       "      <th>Country Name</th>\n",
       "      <th>Country Code</th>\n",
       "      <th>Indicator Name</th>\n",
       "      <th>Indicator Code</th>\n",
       "      <th>1960</th>\n",
       "      <th>1961</th>\n",
       "      <th>1962</th>\n",
       "      <th>1963</th>\n",
       "      <th>1964</th>\n",
       "      <th>1965</th>\n",
       "      <th>...</th>\n",
       "      <th>2015</th>\n",
       "      <th>2016</th>\n",
       "      <th>2017</th>\n",
       "      <th>2018</th>\n",
       "      <th>2019</th>\n",
       "      <th>2020</th>\n",
       "      <th>2021</th>\n",
       "      <th>2022</th>\n",
       "      <th>2023</th>\n",
       "      <th>Unnamed: 68</th>\n",
       "    </tr>\n",
       "  </thead>\n",
       "  <tbody>\n",
       "    <tr>\n",
       "      <th>0</th>\n",
       "      <td>Aruba</td>\n",
       "      <td>ABW</td>\n",
       "      <td>Population, total</td>\n",
       "      <td>SP.POP.TOTL</td>\n",
       "      <td>54922.0</td>\n",
       "      <td>55578.0</td>\n",
       "      <td>56320.0</td>\n",
       "      <td>57002.0</td>\n",
       "      <td>57619.0</td>\n",
       "      <td>58190.0</td>\n",
       "      <td>...</td>\n",
       "      <td>107906.0</td>\n",
       "      <td>108727.0</td>\n",
       "      <td>108735.0</td>\n",
       "      <td>108908.0</td>\n",
       "      <td>109203.0</td>\n",
       "      <td>108587.0</td>\n",
       "      <td>107700.0</td>\n",
       "      <td>107310.0</td>\n",
       "      <td>107359.0</td>\n",
       "      <td>NaN</td>\n",
       "    </tr>\n",
       "    <tr>\n",
       "      <th>1</th>\n",
       "      <td>Africa Eastern and Southern</td>\n",
       "      <td>AFE</td>\n",
       "      <td>Population, total</td>\n",
       "      <td>SP.POP.TOTL</td>\n",
       "      <td>130072080.0</td>\n",
       "      <td>133534923.0</td>\n",
       "      <td>137171659.0</td>\n",
       "      <td>140945536.0</td>\n",
       "      <td>144904094.0</td>\n",
       "      <td>149033472.0</td>\n",
       "      <td>...</td>\n",
       "      <td>607123269.0</td>\n",
       "      <td>623369401.0</td>\n",
       "      <td>640058741.0</td>\n",
       "      <td>657801085.0</td>\n",
       "      <td>675950189.0</td>\n",
       "      <td>694446100.0</td>\n",
       "      <td>713090928.0</td>\n",
       "      <td>731821393.0</td>\n",
       "      <td>750503764.0</td>\n",
       "      <td>NaN</td>\n",
       "    </tr>\n",
       "    <tr>\n",
       "      <th>2</th>\n",
       "      <td>Afghanistan</td>\n",
       "      <td>AFG</td>\n",
       "      <td>Population, total</td>\n",
       "      <td>SP.POP.TOTL</td>\n",
       "      <td>9035043.0</td>\n",
       "      <td>9214083.0</td>\n",
       "      <td>9404406.0</td>\n",
       "      <td>9604487.0</td>\n",
       "      <td>9814318.0</td>\n",
       "      <td>10036008.0</td>\n",
       "      <td>...</td>\n",
       "      <td>33831764.0</td>\n",
       "      <td>34700612.0</td>\n",
       "      <td>35688935.0</td>\n",
       "      <td>36743039.0</td>\n",
       "      <td>37856121.0</td>\n",
       "      <td>39068979.0</td>\n",
       "      <td>40000412.0</td>\n",
       "      <td>40578842.0</td>\n",
       "      <td>41454761.0</td>\n",
       "      <td>NaN</td>\n",
       "    </tr>\n",
       "    <tr>\n",
       "      <th>3</th>\n",
       "      <td>Africa Western and Central</td>\n",
       "      <td>AFW</td>\n",
       "      <td>Population, total</td>\n",
       "      <td>SP.POP.TOTL</td>\n",
       "      <td>97630925.0</td>\n",
       "      <td>99706674.0</td>\n",
       "      <td>101854756.0</td>\n",
       "      <td>104089175.0</td>\n",
       "      <td>106388440.0</td>\n",
       "      <td>108772632.0</td>\n",
       "      <td>...</td>\n",
       "      <td>418127845.0</td>\n",
       "      <td>429454743.0</td>\n",
       "      <td>440882906.0</td>\n",
       "      <td>452195915.0</td>\n",
       "      <td>463365429.0</td>\n",
       "      <td>474569351.0</td>\n",
       "      <td>485920997.0</td>\n",
       "      <td>497387180.0</td>\n",
       "      <td>509398589.0</td>\n",
       "      <td>NaN</td>\n",
       "    </tr>\n",
       "    <tr>\n",
       "      <th>4</th>\n",
       "      <td>Angola</td>\n",
       "      <td>AGO</td>\n",
       "      <td>Population, total</td>\n",
       "      <td>SP.POP.TOTL</td>\n",
       "      <td>5231654.0</td>\n",
       "      <td>5301583.0</td>\n",
       "      <td>5354310.0</td>\n",
       "      <td>5408320.0</td>\n",
       "      <td>5464187.0</td>\n",
       "      <td>5521981.0</td>\n",
       "      <td>...</td>\n",
       "      <td>28157798.0</td>\n",
       "      <td>29183070.0</td>\n",
       "      <td>30234839.0</td>\n",
       "      <td>31297155.0</td>\n",
       "      <td>32375632.0</td>\n",
       "      <td>33451132.0</td>\n",
       "      <td>34532429.0</td>\n",
       "      <td>35635029.0</td>\n",
       "      <td>36749906.0</td>\n",
       "      <td>NaN</td>\n",
       "    </tr>\n",
       "  </tbody>\n",
       "</table>\n",
       "<p>5 rows × 69 columns</p>\n",
       "</div>"
      ],
      "text/plain": [
       "                  Country Name Country Code     Indicator Name Indicator Code  \\\n",
       "0                        Aruba          ABW  Population, total    SP.POP.TOTL   \n",
       "1  Africa Eastern and Southern          AFE  Population, total    SP.POP.TOTL   \n",
       "2                  Afghanistan          AFG  Population, total    SP.POP.TOTL   \n",
       "3   Africa Western and Central          AFW  Population, total    SP.POP.TOTL   \n",
       "4                       Angola          AGO  Population, total    SP.POP.TOTL   \n",
       "\n",
       "          1960         1961         1962         1963         1964  \\\n",
       "0      54922.0      55578.0      56320.0      57002.0      57619.0   \n",
       "1  130072080.0  133534923.0  137171659.0  140945536.0  144904094.0   \n",
       "2    9035043.0    9214083.0    9404406.0    9604487.0    9814318.0   \n",
       "3   97630925.0   99706674.0  101854756.0  104089175.0  106388440.0   \n",
       "4    5231654.0    5301583.0    5354310.0    5408320.0    5464187.0   \n",
       "\n",
       "          1965  ...         2015         2016         2017         2018  \\\n",
       "0      58190.0  ...     107906.0     108727.0     108735.0     108908.0   \n",
       "1  149033472.0  ...  607123269.0  623369401.0  640058741.0  657801085.0   \n",
       "2   10036008.0  ...   33831764.0   34700612.0   35688935.0   36743039.0   \n",
       "3  108772632.0  ...  418127845.0  429454743.0  440882906.0  452195915.0   \n",
       "4    5521981.0  ...   28157798.0   29183070.0   30234839.0   31297155.0   \n",
       "\n",
       "          2019         2020         2021         2022         2023  \\\n",
       "0     109203.0     108587.0     107700.0     107310.0     107359.0   \n",
       "1  675950189.0  694446100.0  713090928.0  731821393.0  750503764.0   \n",
       "2   37856121.0   39068979.0   40000412.0   40578842.0   41454761.0   \n",
       "3  463365429.0  474569351.0  485920997.0  497387180.0  509398589.0   \n",
       "4   32375632.0   33451132.0   34532429.0   35635029.0   36749906.0   \n",
       "\n",
       "   Unnamed: 68  \n",
       "0          NaN  \n",
       "1          NaN  \n",
       "2          NaN  \n",
       "3          NaN  \n",
       "4          NaN  \n",
       "\n",
       "[5 rows x 69 columns]"
      ]
     },
     "execution_count": 46,
     "metadata": {},
     "output_type": "execute_result"
    }
   ],
   "source": [
    "df = pd.read_csv('Population Dataset/API_SP.POP.TOTL_DS2_en_csv_v2_76253.csv')\n",
    "df.head()"
   ]
  },
  {
   "cell_type": "markdown",
   "metadata": {},
   "source": [
    "<h3>Step 3: Data Exploration & Cleaning</h3>"
   ]
  },
  {
   "cell_type": "code",
   "execution_count": 47,
   "metadata": {},
   "outputs": [
    {
     "name": "stdout",
     "output_type": "stream",
     "text": [
      "<class 'pandas.core.frame.DataFrame'>\n",
      "RangeIndex: 266 entries, 0 to 265\n",
      "Data columns (total 69 columns):\n",
      " #   Column          Non-Null Count  Dtype  \n",
      "---  ------          --------------  -----  \n",
      " 0   Country Name    266 non-null    object \n",
      " 1   Country Code    266 non-null    object \n",
      " 2   Indicator Name  266 non-null    object \n",
      " 3   Indicator Code  266 non-null    object \n",
      " 4   1960            264 non-null    float64\n",
      " 5   1961            264 non-null    float64\n",
      " 6   1962            264 non-null    float64\n",
      " 7   1963            264 non-null    float64\n",
      " 8   1964            264 non-null    float64\n",
      " 9   1965            264 non-null    float64\n",
      " 10  1966            264 non-null    float64\n",
      " 11  1967            264 non-null    float64\n",
      " 12  1968            264 non-null    float64\n",
      " 13  1969            264 non-null    float64\n",
      " 14  1970            264 non-null    float64\n",
      " 15  1971            264 non-null    float64\n",
      " 16  1972            264 non-null    float64\n",
      " 17  1973            264 non-null    float64\n",
      " 18  1974            264 non-null    float64\n",
      " 19  1975            264 non-null    float64\n",
      " 20  1976            264 non-null    float64\n",
      " 21  1977            264 non-null    float64\n",
      " 22  1978            264 non-null    float64\n",
      " 23  1979            264 non-null    float64\n",
      " 24  1980            264 non-null    float64\n",
      " 25  1981            264 non-null    float64\n",
      " 26  1982            264 non-null    float64\n",
      " 27  1983            264 non-null    float64\n",
      " 28  1984            264 non-null    float64\n",
      " 29  1985            264 non-null    float64\n",
      " 30  1986            264 non-null    float64\n",
      " 31  1987            264 non-null    float64\n",
      " 32  1988            264 non-null    float64\n",
      " 33  1989            264 non-null    float64\n",
      " 34  1990            265 non-null    float64\n",
      " 35  1991            265 non-null    float64\n",
      " 36  1992            265 non-null    float64\n",
      " 37  1993            265 non-null    float64\n",
      " 38  1994            265 non-null    float64\n",
      " 39  1995            265 non-null    float64\n",
      " 40  1996            265 non-null    float64\n",
      " 41  1997            265 non-null    float64\n",
      " 42  1998            265 non-null    float64\n",
      " 43  1999            265 non-null    float64\n",
      " 44  2000            265 non-null    float64\n",
      " 45  2001            265 non-null    float64\n",
      " 46  2002            265 non-null    float64\n",
      " 47  2003            265 non-null    float64\n",
      " 48  2004            265 non-null    float64\n",
      " 49  2005            265 non-null    float64\n",
      " 50  2006            265 non-null    float64\n",
      " 51  2007            265 non-null    float64\n",
      " 52  2008            265 non-null    float64\n",
      " 53  2009            265 non-null    float64\n",
      " 54  2010            265 non-null    float64\n",
      " 55  2011            265 non-null    float64\n",
      " 56  2012            265 non-null    float64\n",
      " 57  2013            265 non-null    float64\n",
      " 58  2014            265 non-null    float64\n",
      " 59  2015            265 non-null    float64\n",
      " 60  2016            265 non-null    float64\n",
      " 61  2017            265 non-null    float64\n",
      " 62  2018            265 non-null    float64\n",
      " 63  2019            265 non-null    float64\n",
      " 64  2020            265 non-null    float64\n",
      " 65  2021            265 non-null    float64\n",
      " 66  2022            265 non-null    float64\n",
      " 67  2023            265 non-null    float64\n",
      " 68  Unnamed: 68     0 non-null      float64\n",
      "dtypes: float64(65), object(4)\n",
      "memory usage: 143.5+ KB\n"
     ]
    }
   ],
   "source": [
    "df.info()"
   ]
  },
  {
   "cell_type": "markdown",
   "metadata": {},
   "source": [
    "<h4>Extract Population of India from the dataset</h4>\n"
   ]
  },
  {
   "cell_type": "code",
   "execution_count": 48,
   "metadata": {},
   "outputs": [],
   "source": [
    "india_population = df[df['Country Name'] == 'India'].set_index('Country Name').iloc[:, 4:].T\n",
    "india_population.columns = ['Total Population']"
   ]
  },
  {
   "cell_type": "markdown",
   "metadata": {},
   "source": [
    "<h3>Step 3: Visualizing Population Over the Years</h3>"
   ]
  },
  {
   "cell_type": "code",
   "execution_count": 49,
   "metadata": {},
   "outputs": [
    {
     "data": {
      "image/png": "[encoded data removed]",
      "text/plain": [
       "<Figure size 1200x600 with 1 Axes>"
      ]
     },
     "metadata": {},
     "output_type": "display_data"
    }
   ],
   "source": [
    "# Plot a histogram to visualize the population distribution over the years\n",
    "plt.figure(figsize=(12, 6))\n",
    "plt.bar(india_population.index, india_population['Total Population'], color='blue')\n",
    "plt.xticks(rotation=45)\n",
    "plt.xlabel(\"Year\")\n",
    "plt.ylabel(\"Total Population\")\n",
    "plt.title(\"India's Population Over the Years\")\n",
    "plt.show()\n"
   ]
  },
  {
   "cell_type": "markdown",
   "metadata": {},
   "source": [
    "<h3>Step 4: Bar Chart for Population Distribution by Age Groups</h3>"
   ]
  },
  {
   "cell_type": "code",
   "execution_count": 50,
   "metadata": {},
   "outputs": [
    {
     "data": {
      "image/png": "[encoded data removed]",
      "text/plain": [
       "<Figure size 1000x600 with 1 Axes>"
      ]
     },
     "metadata": {},
     "output_type": "display_data"
    }
   ],
   "source": [
    "# Define age groups and population distribution\n",
    "age_groups = ['0 to 20 Years', '21 to 64 Years', '65+ Years']\n",
    "population = [512, 807, 98]  # In millions\n",
    "\n",
    "# Define colors for visualization\n",
    "colors = ['yellow', 'blue', 'pink']\n",
    "\n",
    "# Create bar chart\n",
    "plt.figure(figsize=(10, 6))\n",
    "plt.bar(age_groups, population, color=colors, edgecolor='black')\n",
    "\n",
    "# Add labels and title\n",
    "plt.xlabel(\"Age Groups\")\n",
    "plt.ylabel(\"Population (Millions)\")\n",
    "plt.title(\"India's Population Distribution by Age in 2022\")\n",
    "\n",
    "# Display values on top of bars\n",
    "for i, v in enumerate(population):\n",
    "    plt.text(i, v + 10, f\"{v}M\", ha='center', fontsize=12, fontweight='bold')\n",
    "\n",
    "plt.show()\n"
   ]
  },
  {
   "cell_type": "markdown",
   "metadata": {},
   "source": [
    "<h3>Step 5: Horizontal Bar Chart (Population by Age & Gender)</h3>"
   ]
  },
  {
   "cell_type": "code",
   "execution_count": 51,
   "metadata": {},
   "outputs": [
    {
     "data": {
      "image/png": "[encoded data removed]",
      "text/plain": [
       "<Figure size 1000x600 with 1 Axes>"
      ]
     },
     "metadata": {},
     "output_type": "display_data"
    }
   ],
   "source": [
    "population_male = [256, 404, 49]  \n",
    "population_female = [256, 403, 49] \n",
    "\n",
    "y_pos = np.array([0, 1, 2])  \n",
    "\n",
    "fig, ax = plt.subplots(figsize=(10, 6))\n",
    "ax.barh(y_pos, population_male, color='#3498db', label='Male')\n",
    "ax.barh(y_pos, [-p for p in population_female], color='#e74c3c', label='Female')\n",
    "\n",
    "ax.set_xlabel(\"Population (Millions)\")\n",
    "ax.set_ylabel(\"Age Groups\")\n",
    "ax.set_title(\"India's Population Distribution by Age in 2022\")\n",
    "ax.set_yticks(y_pos)\n",
    "ax.set_yticklabels(age_groups)\n",
    "ax.legend()\n",
    "\n",
    "for i in range(len(population_male)):\n",
    "    ax.text(population_male[i] + 10, y_pos[i], f\"{population_male[i]}M\", va='center', fontsize=10, color='black')\n",
    "    ax.text(-population_female[i] - 20, y_pos[i], f\"{population_female[i]}M\", va='center', fontsize=10, color='black')\n",
    "\n",
    "ax.set_xlim(-450, 450)\n",
    "plt.grid(axis='x', linestyle='--', alpha=0.7)\n",
    "plt.show()\n"
   ]
  },
  {
   "cell_type": "markdown",
   "metadata": {},
   "source": [
    "<h3>Step 6: Pie Chart for Gender Distribution</h3>"
   ]
  },
  {
   "cell_type": "code",
   "execution_count": 52,
   "metadata": {},
   "outputs": [
    {
     "data": {
      "image/png": "[encoded data removed]",
      "text/plain": [
       "<Figure size 600x600 with 1 Axes>"
      ]
     },
     "metadata": {},
     "output_type": "display_data"
    }
   ],
   "source": [
    "gender_labels = ['Male', 'Female']\n",
    "gender_population = [sum(population_male), sum(population_female)]\n",
    "colors = ['#3498db', '#e74c3c']\n",
    "\n",
    "plt.figure(figsize=(6, 6))\n",
    "plt.pie(gender_population, labels=gender_labels, autopct='%1.1f%%', colors=colors, startangle=140)\n",
    "plt.title(\"Gender Distribution in India (2022)\")\n",
    "plt.show()"
   ]
  },
  {
   "cell_type": "markdown",
   "metadata": {},
   "source": [
    "<h3>Step 7: Area Chart for Population Over Age</h3>"
   ]
  },
  {
   "cell_type": "code",
   "execution_count": 53,
   "metadata": {},
   "outputs": [
    {
     "data": {
      "image/png": "[encoded data removed]",
      "text/plain": [
       "<Figure size 800x500 with 1 Axes>"
      ]
     },
     "metadata": {},
     "output_type": "display_data"
    }
   ],
   "source": [
    "ages = [0, 20, 64, 100]  \n",
    "populations = [512, 807, 98, 0]  \n",
    "\n",
    "plt.figure(figsize=(8, 5))\n",
    "plt.fill_between(ages, populations, color='skyblue', alpha=0.6)\n",
    "plt.plot(ages, populations, marker='o', color='blue')\n",
    "plt.xlabel(\"Age\")\n",
    "plt.ylabel(\"Population (Millions)\")\n",
    "plt.title(\"Population Distribution Over Age in India (2022)\")\n",
    "plt.grid()\n",
    "plt.show()"
   ]
  }
 ],
 "metadata": {
  "kernelspec": {
   "display_name": "base",
   "language": "python",
   "name": "python3"
  },
  "language_info": {
   "codemirror_mode": {
    "name": "ipython",
    "version": 3
   },
   "file_extension": ".py",
   "mimetype": "text/x-python",
   "name": "python",
   "nbconvert_exporter": "python",
   "pygments_lexer": "ipython3",
   "version": "3.12.7"
  }
 },
 "nbformat": 4,
 "nbformat_minor": 2
}
